{
 "cells": [
  {
   "cell_type": "markdown",
   "metadata": {},
   "source": [
    "# THE BOOK NETWORK"
   ]
  },
  {
   "cell_type": "markdown",
   "metadata": {},
   "source": [
    "# 1. Motivation & The Idea"
   ]
  },
  {
   "cell_type": "markdown",
   "metadata": {},
   "source": [
    "Our group are big fans of literature, therefore we decided to analyze network of books created from Goodreads. It is the largest website where people rate and review books.\n",
    "\n",
    "The cornerstone of our analysis are the 3000 most rated books with the highest average rating\n",
    "We took these books and created a connection whenever the same person rates both of the books. As the result we've got a graph where books are the nodes and edges carry the number of people who rated both of the books. This way, we've created network of Fans (people who gave high rating) and network of Haters (people who gave low rating)."
   ]
  },
  {
   "cell_type": "markdown",
   "metadata": {},
   "source": [
    "## Dataset\n",
    "We used a subset of [Goodbooks-10k](https://github.com/zygmuntz/goodbooks-10k) from Github, which contains most rated books, their user ratings and all the tags users give them.\n",
    "\n",
    "However we wanted even more information so we can do a text analysis. Therefore we wrote a python script to download and extract book descriptions and reviews for selected 3000 books directly from Goodreads. "
   ]
  },
  {
   "cell_type": "markdown",
   "metadata": {},
   "source": [
    "## Goals\n",
    "**1. Answer several questions through the analysis:**\n",
    "- What are the most central books? \n",
    "- What are the communities within the network - what are the groups of books read by the same people?\n",
    "- Why people like these books?\n",
    "- What are the unpopular opinions about such well recieved books?\n",
    "\n",
    "**2. Create recommendations based on the communities we discovered.**"
   ]
  },
  {
   "cell_type": "markdown",
   "metadata": {},
   "source": [
    "# 2. Basic Stats"
   ]
  },
  {
   "cell_type": "markdown",
   "metadata": {},
   "source": [
    "# 3. Analysis "
   ]
  },
  {
   "cell_type": "markdown",
   "metadata": {},
   "source": [
    "# 4. Conclusion "
   ]
  },
  {
   "cell_type": "code",
   "execution_count": null,
   "metadata": {},
   "outputs": [],
   "source": []
  }
 ],
 "metadata": {
  "kernelspec": {
   "display_name": "Python 3",
   "language": "python",
   "name": "python3"
  },
  "language_info": {
   "codemirror_mode": {
    "name": "ipython",
    "version": 3
   },
   "file_extension": ".py",
   "mimetype": "text/x-python",
   "name": "python",
   "nbconvert_exporter": "python",
   "pygments_lexer": "ipython3",
   "version": "3.6.5"
  }
 },
 "nbformat": 4,
 "nbformat_minor": 2
}
