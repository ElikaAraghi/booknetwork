{
 "cells": [
  {
   "cell_type": "markdown",
   "metadata": {},
   "source": [
    "# THE BOOK NETWORK"
   ]
  },
  {
   "cell_type": "markdown",
   "metadata": {},
   "source": [
    "# 1. Motivation & The Idea"
   ]
  },
  {
   "cell_type": "markdown",
   "metadata": {},
   "source": [
    "Our group are big fans of literature, therefore we decided to analyze network of books created from Goodreads. It is the largest website where people rate and review books.\n",
    "\n",
    "The cornerstone of our analysis are the 3000 most rated books with the highest average rating\n",
    "We took these books and created a connection whenever the same person rates both of the books. As the result we've got a graph where books are the nodes and edges carry the number of people who rated both of the books. This way, we've created network of Fans (people who gave high rating) and network of Haters (people who gave low rating)."
   ]
  },
  {
   "cell_type": "markdown",
   "metadata": {},
   "source": [
    "## Dataset\n",
    "We used a subset of [Goodbooks-10k](https://github.com/zygmuntz/goodbooks-10k) from Github, which contains most rated books, their user ratings and all the tags users give them.\n",
    "\n",
    "However we wanted even more information so we can do a text analysis. Therefore we wrote a python script to download and extract book descriptions and reviews for selected 3000 books directly from Goodreads."
   ]
  },
  {
   "cell_type": "markdown",
   "metadata": {},
   "source": [
    "## Goals\n",
    "**1. Answer several questions through the analysis:**\n",
    "- What are the most connected books? \n",
    "- What are the communities within the network - what are the groups of books read by the same people?\n",
    "- Why people like these books?\n",
    "- What are the unpopular opinions about such well recieved books?\n",
    "\n",
    "**2. Create recommendations based on the communities we discovered.**"
   ]
  },
  {
   "cell_type": "markdown",
   "metadata": {},
   "source": [
    "# 2. [Data Notebook ](https://nbviewer.jupyter.org/github/MonikaF/booknetwork/blob/master/explainer%20notebooks/EXPLAINER_notebook_DATA.ipynb?flush_cache=true)\n",
    "\n",
    "You can find more information about the data set, the basic stats and how we prepared it for analysis in this notebook:\n",
    "\n"
   ]
  },
  {
   "cell_type": "markdown",
   "metadata": {},
   "source": [
    "# 3. [Analysis](https://nbviewer.jupyter.org/github/MonikaF/booknetwork/blob/master/explainer%20notebooks/EXPLAINER_notebook_ANALYSIS.ipynb?flush_cache=true)\n",
    "In this notebook you can find code and explanation about:\n",
    "- how we created our networks\n",
    "- network statistics\n",
    "- analysis of communities within graphs\n",
    "    - descriptions\n",
    "    - tags\n",
    "    - reviews\n",
    "    - languages\n",
    "- comparison of our networks\n",
    "\n",
    "** The notebook is fairly large, so it takes long time to load. **\n",
    "Alternatively, you can download it [here](https://github.com/MonikaF/booknetwork/blob/master/explainer%20notebooks/EXPLAINER_notebook_ANALYSIS.ipynb)"
   ]
  },
  {
   "cell_type": "markdown",
   "metadata": {},
   "source": [
    "# 4. Discussion of results"
   ]
  },
  {
   "cell_type": "markdown",
   "metadata": {},
   "source": [
    "### What went well\n",
    "Building **Fan network** and subsequent analysis. We we able to find **well defined communities**. By using TF-IDF on book descriptions and findig most frequent tags, we were able to interpret what kind of books are in the communities. The word clouds for tags describe genres within communities quite well. We can see that communities contain combinations several different topics which are often related. As for descriptions TF-IDF proved to be useful. Finding freqent words unique for the communities helped us with the interpretation.\n",
    "\n",
    "While analyzing reviews, we realized that lot of them are written in other languages than English. We excluded those reviews from word clouds, because it is hard for us to interpret words in unknown languages. But we counted what languages are popular and found out that many of the communities are very **language-specific**."
   ]
  },
  {
   "cell_type": "markdown",
   "metadata": {},
   "source": [
    "### What didn't go so well\n",
    "By analyzing reviews, we wanted to find out why people like/dislike book in the communities. Hoewer using TF-IDF didn't prove as useful for answering this question. The words mostly reflect the content of the books, which is often mentioned in the reviews. It can be difficult to interpret why people liked these books. \n",
    "However the results can be used to further explain what topic are relevant in the community together with descriptions and tags. \n",
    " \n",
    "The hater network is sparser compared to fan network, and the communities are not so well defined compared to fan network. Generally each community contains many different genres and topic which makes it difficult to find an overlaying theme.\n",
    "It makes sense since disliking a book is probably more random occurance than liking one. When we like a book, we try to find other books that are similar and we will probably like them as well. However reading a book you don't like is more of a bad luck, since it probably seemed to be interesting at first glance.\n",
    "\n",
    "Because of that, it is also more difficult to make negative recommendations - which books to avoid."
   ]
  },
  {
   "cell_type": "markdown",
   "metadata": {},
   "source": [
    "### What could be improved\n",
    "- Dynamic recommendations: Currently we created our recommendations manualy - by chosing the most connected books and finding their neigbours within their communities. However we initialy wanted to create dynamic recommendations where user can select their favourite book from the list and get recommendations for other books to read based on the communities. However we did not have enoug time to implement a dynamic website.\n",
    "\n",
    "- Average sentiment per community: The better usage of sentiment analysis would be to compare how the average review sentiment for each community differs from the average sentiment of all reviews - this way we could see which communities are regarded more positively than the others. However because of lack of time we did not get to do it."
   ]
  }
 ],
 "metadata": {
  "kernelspec": {
   "display_name": "Python 3",
   "language": "python",
   "name": "python3"
  },
  "language_info": {
   "codemirror_mode": {
    "name": "ipython",
    "version": 3
   },
   "file_extension": ".py",
   "mimetype": "text/x-python",
   "name": "python",
   "nbconvert_exporter": "python",
   "pygments_lexer": "ipython3",
   "version": "3.6.5"
  }
 },
 "nbformat": 4,
 "nbformat_minor": 2
}
